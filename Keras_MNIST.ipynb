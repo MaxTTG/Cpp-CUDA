{
  "nbformat": 4,
  "nbformat_minor": 0,
  "metadata": {
    "colab": {
      "provenance": [],
      "authorship_tag": "ABX9TyPgwKSYyz8fkWqlz+FWYsIM",
      "include_colab_link": true
    },
    "kernelspec": {
      "name": "python3",
      "display_name": "Python 3"
    },
    "language_info": {
      "name": "python"
    }
  },
  "cells": [
    {
      "cell_type": "markdown",
      "metadata": {
        "id": "view-in-github",
        "colab_type": "text"
      },
      "source": [
        "<a href=\"https://colab.research.google.com/github/MaxTTG/Keras-MNIST/blob/main/Keras_MNIST.ipynb\" target=\"_parent\"><img src=\"https://colab.research.google.com/assets/colab-badge.svg\" alt=\"Open In Colab\"/></a>"
      ]
    },
    {
      "cell_type": "code",
      "source": [
        "!pip install tensorflow"
      ],
      "metadata": {
        "id": "MM0OkZnKxYUB"
      },
      "execution_count": null,
      "outputs": []
    },
    {
      "cell_type": "code",
      "source": [
        "import numpy as np\n",
        "import matplotlib.pyplot as plt\n",
        "import tensorflow as tf\n",
        "\n",
        "np.random.seed(1)\n",
        "\n",
        "# Загрузка данных MNIST\n",
        "mnist = tf.keras.datasets.mnist\n",
        "(x_train, y_train), (x_test, y_test) = mnist.load_data()\n",
        "\n",
        "# Нормализация данных\n",
        "x_train, x_test = x_train / 255.0, x_test / 255.0\n",
        "\n",
        "# Преобразование матрицы в вектор\n",
        "x_train = np.reshape(x_train, (x_train.shape[0], -1))\n",
        "x_test = np.reshape(x_test, (x_test.shape[0], -1))\n",
        "\n",
        "# One-hot кодирование\n",
        "y_train = tf.one_hot(y_train, depth=10)\n",
        "y_test = tf.one_hot(y_test, depth=10)\n",
        "\n",
        "# Вывод информации о данных\n",
        "print(\"Форма обучающей выборки:\", x_train.shape, y_train.shape)\n",
        "print(\"Форма тестовой выборки:\", x_test.shape, y_test.shape)"
      ],
      "metadata": {
        "colab": {
          "base_uri": "https://localhost:8080/"
        },
        "id": "uLptepjvFLqM",
        "outputId": "e9897477-9caa-466b-a7ca-4533b356f156"
      },
      "execution_count": null,
      "outputs": [
        {
          "output_type": "stream",
          "name": "stdout",
          "text": [
            "Форма обучающей выборки: (60000, 784) (60000, 10)\n",
            "Форма тестовой выборки: (10000, 784) (10000, 10)\n"
          ]
        }
      ]
    },
    {
      "cell_type": "code",
      "execution_count": null,
      "metadata": {
        "colab": {
          "base_uri": "https://localhost:8080/"
        },
        "id": "laWBj7TXtZmt",
        "outputId": "3c37d818-a3ba-4dfb-e43a-c9764556bbcf"
      },
      "outputs": [
        {
          "output_type": "display_data",
          "data": {
            "text/plain": [
              "<Figure size 432x288 with 1 Axes>"
            ],
            "image/png": "[encoded data removed]"
          },
          "metadata": {
            "needs_background": "light"
          }
        }
      ],
      "source": [
        "# Гиперпараметры\n",
        "learning_rate = 0.1\n",
        "input_size = 28 * 28\n",
        "hidden_size = 50\n",
        "output_size = 10\n",
        "num_epochs = 5\n",
        "batch_size = 10\n",
        "\n",
        "# Веса\n",
        "weights_0_1 = 0.2 * np.random.random((input_size, hidden_size)) - 0.1\n",
        "weights_1_2 = 0.2 * np.random.random((hidden_size, output_size)) - 0.1\n",
        "\n",
        "\n",
        "# Функция активации\n",
        "def ReLU(x):\n",
        "    return np.maximum(0, x)\n",
        "\n",
        "def ReLUderiv(x):\n",
        "    return x >= 0\n",
        "\n",
        "\n",
        "# Функция обучения\n",
        "def train(epochs: int, weights_0_1=weights_0_1, weights_1_2=weights_1_2):\n",
        "    losses_train = []\n",
        "    accuracy_train = []\n",
        "    acc = 0\n",
        "    for epoch in range(num_epochs):\n",
        "        for i in range(len(x_train)):\n",
        "            layer_0 = x_train[i]\n",
        "            layer_1 = ReLU(np.dot(layer_0, weights_0_1))\n",
        "            layer_2 = np.dot(layer_1, weights_1_2)\n",
        "\n",
        "            error = np.sum((layer_2 - y_train[i]) ** 2)\n",
        "\n",
        "            layer_2_delta = y_train[i] - layer_2\n",
        "\n",
        "            layer_1_delta = np.dot(layer_2_delta, weights_1_2.T) * ReLUderiv(layer_1)\n",
        "\n",
        "            weight_1_2_corrections = np.dot(layer_1.reshape((hidden_size, 1)), tf.reshape(layer_2_delta, ((1, output_size))))\n",
        "            weight_0_1_corrections = np.dot(layer_0.reshape((input_size, 1)), tf.reshape(layer_1_delta,((1, hidden_size))))\n",
        "\n",
        "            weights_1_2 -= learning_rate * weight_1_2_corrections\n",
        "            weights_0_1 -= learning_rate * weight_0_1_corrections\n",
        "\n",
        "            if tf.math.argmax(y_train[i]) == tf.math.argmax(layer_2):\n",
        "                acc += 1\n",
        "            losses_train.append(error)\n",
        "            accuracy_train.append(acc / (i + 1))\n",
        "\n",
        "\n",
        "\n",
        "    return losses_train, accuracy_train\n",
        "\n",
        "\n",
        "# Функция предсказывания\n",
        "def predict(x):\n",
        "    layer_0 = x\n",
        "    layer_1 = ReLU(np.dot(layer_0, weights_0_1))\n",
        "    return np.dot(layer_1, weights_1_2)\n",
        "\n",
        "\n",
        "loss_train = []\n",
        "acc_train = []\n",
        "loss_test = []\n",
        "acc_test = []\n",
        "\n",
        "loss_train, acc_train = train(num_epochs)\n",
        "plt.plot(loss_train)\n",
        "plt.xlabel('Epoch')\n",
        "plt.ylabel('Loss')\n",
        "plt.show()\n",
        "\n",
        "plt.plot(acc_train)\n",
        "plt.xlabel('Epoch')\n",
        "plt.ylabel('Accuracy')\n",
        "plt.show()"
      ]
    },
    {
      "cell_type": "code",
      "source": [
        "\n",
        "# Функция обучения с батчами\n",
        "def train_batch(epochs: int, batch_size: int, weights_0_1=weights_0_1, weights_1_2=weights_1_2):\n",
        "    losses_train = []\n",
        "    accuracy_train = []\n",
        "    for epoch in range(epochs):\n",
        "        for i in range(0, len(x_train), batch_size):\n",
        "            batch_x = x_train[i:i+batch_size]\n",
        "            batch_y = y_train[i:i+batch_size]\n",
        "\n",
        "            layer_0 = batch_x\n",
        "            layer_1 = ReLU(np.dot(layer_0, weights_0_1))\n",
        "            layer_2 = np.dot(layer_1, weights_1_2)\n",
        "            error = (layer_2 - batch_y) ** 2 / len(batch_x)\n",
        "\n",
        "            loss = np.mean(error)\n",
        "            losses_train.append(loss)\n",
        "\n",
        "            layer_2_delta = layer_2 - batch_y\n",
        "            layer_1_delta = np.dot(layer_2_delta, weights_1_2.T) * layer_1\n",
        "\n",
        "            weight_1_2_corrections = layer_1.T.dot(layer_2_delta)\n",
        "            weight_0_1_corrections = layer_0.T.dot(layer_1_delta)\n",
        "\n",
        "            weights_1_2 -= learning_rate * weight_1_2_corrections\n",
        "            weights_0_1 -= learning_rate * weight_0_1_corrections\n",
        "\n",
        "            predicted_labels = np.argmax(layer_2, axis=1)\n",
        "            true_labels = np.argmax(batch_y, axis=1)\n",
        "            correct_predictions = (predicted_labels == true_labels).sum()\n",
        "            acc = correct_predictions / len(true_labels)\n",
        "            accuracy_train.append(acc)\n",
        "    return losses_train, accuracy_train"
      ],
      "metadata": {
        "id": "-el9sfIYQfXv"
      },
      "execution_count": null,
      "outputs": []
    }
  ]
}