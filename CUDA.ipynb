{
  "nbformat": 4,
  "nbformat_minor": 0,
  "metadata": {
    "colab": {
      "provenance": [],
      "authorship_tag": "ABX9TyOj3i4yEXMXXPO9GfvfXumB",
      "include_colab_link": true
    },
    "kernelspec": {
      "name": "python3",
      "display_name": "Python 3"
    },
    "language_info": {
      "name": "python"
    },
    "accelerator": "GPU",
    "gpuClass": "standard"
  },
  "cells": [
    {
      "cell_type": "markdown",
      "metadata": {
        "id": "view-in-github",
        "colab_type": "text"
      },
      "source": [
        "<a href=\"https://colab.research.google.com/github/MaxTTG/Cpp-CUDA/blob/main/CUDA.ipynb\" target=\"_parent\"><img src=\"https://colab.research.google.com/assets/colab-badge.svg\" alt=\"Open In Colab\"/></a>"
      ]
    },
    {
      "cell_type": "code",
      "execution_count": null,
      "metadata": {
        "id": "mw47oEDmGaxi",
        "colab": {
          "base_uri": "https://localhost:8080/"
        },
        "outputId": "21b5d54c-62d6-404d-d6b9-07284b7408f6"
      },
      "outputs": [
        {
          "output_type": "stream",
          "name": "stdout",
          "text": [
            "nvcc: NVIDIA (R) Cuda compiler driver\n",
            "Copyright (c) 2005-2021 NVIDIA Corporation\n",
            "Built on Sun_Feb_14_21:12:58_PST_2021\n",
            "Cuda compilation tools, release 11.2, V11.2.152\n",
            "Build cuda_11.2.r11.2/compiler.29618528_0\n",
            "Looking in indexes: https://pypi.org/simple, https://us-python.pkg.dev/colab-wheels/public/simple/\n",
            "Collecting git+https://github.com/andreinechaev/nvcc4jupyter.git\n",
            "  Cloning https://github.com/andreinechaev/nvcc4jupyter.git to /tmp/pip-req-build-x_ph2j1q\n",
            "  Running command git clone -q https://github.com/andreinechaev/nvcc4jupyter.git /tmp/pip-req-build-x_ph2j1q\n",
            "Building wheels for collected packages: NVCCPlugin\n",
            "  Building wheel for NVCCPlugin (setup.py) ... \u001b[?25l\u001b[?25hdone\n",
            "  Created wheel for NVCCPlugin: filename=NVCCPlugin-0.0.2-py3-none-any.whl size=4304 sha256=a77c7a2f48aa9913469d62e93121cc725fb6f27f0273645845a946f2f37e1790\n",
            "  Stored in directory: /tmp/pip-ephem-wheel-cache-cpb3ze2y/wheels/f3/08/cc/e2b5b0e1c92df07dbb50a6f024a68ce090f5e7b2316b41756d\n",
            "Successfully built NVCCPlugin\n",
            "Installing collected packages: NVCCPlugin\n",
            "Successfully installed NVCCPlugin-0.0.2\n",
            "created output directory at /content/src\n",
            "Out bin /content/result.out\n"
          ]
        }
      ],
      "source": [
        "!nvcc --version\n",
        "!pip install git+https://github.com/andreinechaev/nvcc4jupyter.git\n",
        "%load_ext nvcc_plugin"
      ]
    },
    {
      "cell_type": "code",
      "source": [
        "!/usr/local/cuda/bin/nvcc --version\n",
        "#!pip install --upgrade git+https://github.com/frehseg/nvcc4jupyter.git\n",
        "!pip install git+https://github.com/andreinechaev/nvcc4jupyter.git\n",
        "%load_ext nvcc_plugin\n",
        "!cuda-install-samples-11.2.sh ~ && cd /root/NVIDIA_CUDA-11.2_Samples/"
      ],
      "metadata": {
        "id": "POKu2vvbpzbj",
        "colab": {
          "base_uri": "https://localhost:8080/"
        },
        "outputId": "dabbd3b0-6a4d-4460-972b-f4e02e5e5371"
      },
      "execution_count": null,
      "outputs": [
        {
          "output_type": "stream",
          "name": "stdout",
          "text": [
            "nvcc: NVIDIA (R) Cuda compiler driver\n",
            "Copyright (c) 2005-2021 NVIDIA Corporation\n",
            "Built on Sun_Feb_14_21:12:58_PST_2021\n",
            "Cuda compilation tools, release 11.2, V11.2.152\n",
            "Build cuda_11.2.r11.2/compiler.29618528_0\n",
            "Looking in indexes: https://pypi.org/simple, https://us-python.pkg.dev/colab-wheels/public/simple/\n",
            "Collecting git+https://github.com/andreinechaev/nvcc4jupyter.git\n",
            "  Cloning https://github.com/andreinechaev/nvcc4jupyter.git to /tmp/pip-req-build-pdw_d8lv\n",
            "  Running command git clone -q https://github.com/andreinechaev/nvcc4jupyter.git /tmp/pip-req-build-pdw_d8lv\n",
            "The nvcc_plugin extension is already loaded. To reload it, use:\n",
            "  %reload_ext nvcc_plugin\n",
            "Copying samples to /root/NVIDIA_CUDA-11.2_Samples now...\n",
            "Finished copying samples.\n"
          ]
        }
      ]
    },
    {
      "cell_type": "markdown",
      "source": [
        "Тестовый запуск C++"
      ],
      "metadata": {
        "id": "wpieTbkTHnZf"
      }
    },
    {
      "cell_type": "code",
      "source": [
        "%%cu\n",
        "#include <iostream>\n",
        "  int main()\n",
        "{\n",
        "  std::cout << \"Hello world!!!\";\n",
        "  return 0;\n",
        "}"
      ],
      "metadata": {
        "id": "gMUCVb07Hm8k",
        "colab": {
          "base_uri": "https://localhost:8080/"
        },
        "outputId": "6632357f-3cb0-4fdf-b3e9-045dec98ec98"
      },
      "execution_count": null,
      "outputs": [
        {
          "output_type": "stream",
          "name": "stdout",
          "text": [
            "Hello world!!!\n"
          ]
        }
      ]
    },
    {
      "cell_type": "markdown",
      "source": [
        "CUDA сложение векторов"
      ],
      "metadata": {
        "id": "xw_bMUjDIdDv"
      }
    },
    {
      "cell_type": "code",
      "source": [
        "%%cu\n",
        "\n",
        "#include <cublas_v2.h>\n",
        "#include <malloc.h>\n",
        "#include <stdio.h>\n",
        "#include <stdlib.h>\n",
        "\n",
        "__global__ void kernel(double* a, double* b, double* c, unsigned int n) {\n",
        "  int i = blockIdx.x * blockDim.x + threadIdx.x;\n",
        "  for(;i < n; i += blockDim.x * gridDim.x)\n",
        "  {\n",
        "      c[i] = a[i] + b[i];\n",
        "  }\n",
        "}\n",
        "\n",
        "int main(int argc, char* argv[])\n",
        "{\n",
        "    int n = 1100000;\n",
        "    int n2b = n * sizeof(double);\n",
        "    int n2 = n;\n",
        "    printf(\"double\\n\");\n",
        "    printf(\"n = %d\\n\", n);\n",
        "    printf(\"n2b = %d\\n\", n2b);\n",
        "    printf(\"n2 = %d\\n\", n2);\n",
        "\n",
        "    // Выделение памяти на хосте\n",
        "    double* a = (double*)calloc(n2, sizeof(double));\n",
        "    double* b = (double*)calloc(n2, sizeof(double));\n",
        "    double* c = (double*)calloc(n2, sizeof(double));\n",
        "\n",
        "    for (int i = 0; i < n; ++i) {\n",
        "        a[i] = 1;\n",
        "        b[i] = 2;\n",
        "    }\n",
        "    printf(\"a[0] = %f\\n\", a[0]);\n",
        "    printf(\"b[0] = %f\\n\", b[0]);\n",
        "    // Выделение памяти на устройстве\n",
        "    double* adev = NULL;\n",
        "    double* bdev = NULL;\n",
        "    double* cdev = NULL;\n",
        "\n",
        "    cudaMalloc((void**)&adev, n2b);\n",
        "    cudaMalloc((void**)&bdev, n2b);\n",
        "    cudaMalloc((void**)&cdev, n2b);\n",
        "\n",
        "    // Создание обработчиков событий\n",
        "    cudaEvent_t start, stop;\n",
        "    float gpuTime = 0.0f;\n",
        "    cudaEventCreate(&start);\n",
        "\n",
        "    cudaEventCreate(&stop);\n",
        "\n",
        "    // Копирование данных с хоста на девайс\n",
        "    cudaMemcpy(adev, a, n2b, cudaMemcpyHostToDevice);\n",
        "    cudaMemcpy(bdev, b, n2b, cudaMemcpyHostToDevice);\n",
        "\n",
        "    // Установка точки старта\n",
        "    cudaEventRecord(start, 0);\n",
        "\n",
        "    //Запуск ядра\n",
        "    //[(4096,1024);(2048,1024);(4096,256);(2048,256);(4096,64);(2048,64)]\n",
        "    int q = 4096;\n",
        "    int p = 1024;\n",
        "    printf(\"GridDim = %d, BlockDim = %d\\n\", q, p);\n",
        "\n",
        "    kernel <<< q, p >>> (adev, bdev, cdev, n);\n",
        "\n",
        "    cudaGetLastError();\n",
        "\n",
        "    // Синхронизация устройств\n",
        "    cudaDeviceSynchronize();\n",
        "\n",
        "    // Установка точки окончания\n",
        "    cudaEventRecord(stop, 0);\n",
        "\n",
        "    // Копирование результата на хост\n",
        "    cudaMemcpy(c, cdev, n2b, cudaMemcpyDeviceToHost);\n",
        "\n",
        "    // Расчет времени\n",
        "    cudaEventElapsedTime(&gpuTime, start, stop);\n",
        "\n",
        "    printf(\"time spent executing %s: %.9f seconds\\n\", \"kernel\", gpuTime / 1000);\n",
        "    for (int i = 0; i < 5; ++i) {\n",
        "        printf(\"i = %d) a: %f b: %f c: %f\\n\", i, a[i], b[i], c[i]);\n",
        "    }\n",
        "    for (int i = n - 6; i < n; ++i) {\n",
        "        printf(\"i = %d) a: %f b: %f c: %f\\n\", i, a[i], b[i], c[i]);\n",
        "    }\n",
        "\n",
        "    for (int i = 0; i < n; ++i) {\n",
        "        if (c[i] == 0) {\n",
        "            printf(\"i = %d; c[i] = 0\", i);\n",
        "            break;\n",
        "        }\n",
        "    }\n",
        "    // Очищение памяти\n",
        "    cudaEventDestroy(start);\n",
        "    cudaEventDestroy(stop);\n",
        "    cudaFree(adev);\n",
        "    cudaFree(bdev);\n",
        "    cudaFree(cdev);\n",
        "    free(a);\n",
        "    free(b);\n",
        "    free(c);\n",
        "    return 0;\n",
        "}"
      ],
      "metadata": {
        "id": "5jYWteGJIe1d",
        "colab": {
          "base_uri": "https://localhost:8080/"
        },
        "outputId": "8c42374b-66f1-4547-f036-cf2d9b20da9c"
      },
      "execution_count": null,
      "outputs": [
        {
          "output_type": "stream",
          "name": "stdout",
          "text": [
            "double\n",
            "n = 1100000\n",
            "n2b = 8800000\n",
            "n2 = 1100000\n",
            "a[0] = 1.000000\n",
            "b[0] = 2.000000\n",
            "GridDim = 4096, BlockDim = 1024\n",
            "time spent executing kernel: 0.000156192 seconds\n",
            "i = 0) a: 1.000000 b: 2.000000 c: 3.000000\n",
            "i = 1) a: 1.000000 b: 2.000000 c: 3.000000\n",
            "i = 2) a: 1.000000 b: 2.000000 c: 3.000000\n",
            "i = 3) a: 1.000000 b: 2.000000 c: 3.000000\n",
            "i = 4) a: 1.000000 b: 2.000000 c: 3.000000\n",
            "i = 1099994) a: 1.000000 b: 2.000000 c: 3.000000\n",
            "i = 1099995) a: 1.000000 b: 2.000000 c: 3.000000\n",
            "i = 1099996) a: 1.000000 b: 2.000000 c: 3.000000\n",
            "i = 1099997) a: 1.000000 b: 2.000000 c: 3.000000\n",
            "i = 1099998) a: 1.000000 b: 2.000000 c: 3.000000\n",
            "i = 1099999) a: 1.000000 b: 2.000000 c: 3.000000\n",
            "\n"
          ]
        }
      ]
    },
    {
      "cell_type": "markdown",
      "source": [
        "Последовательный вариант сложения векторов"
      ],
      "metadata": {
        "id": "tNT1CXQIxNM7"
      }
    },
    {
      "cell_type": "code",
      "source": [
        "%%cu\n",
        "\n",
        "#include <stdio.h>\n",
        "#include <ctime>\n",
        "#include <stdlib.h>\n",
        "\n",
        "int main()\n",
        "{\n",
        "    int n = 9900000;\n",
        "    double* a = (double*)calloc(n, sizeof(double));\n",
        "    double* b = (double*)calloc(n, sizeof(double));\n",
        "    double* c = (double*)calloc(n, sizeof(double));\n",
        "    for (int i = 0; i < n; ++i)\n",
        "    {\n",
        "        a[i] = 1;\n",
        "        b[i] = 2;\n",
        "    }\n",
        "    int start = clock();\n",
        "\n",
        "    for (int i = 0; i < n; ++i)\n",
        "        c[i] = a[i] + b[i];\n",
        "\n",
        "    int end = clock();\n",
        "    printf(\"Total time: %f \\n\", (float)(end - start) / 1000000);\n",
        "    for (int i = 0; i < 5; ++i) {\n",
        "        printf(\"i = %d) a: %f b: %f c: %f\\n\", i, a[i], b[i], c[i]);\n",
        "    }\n",
        "    for (int i = n - 6; i < n; ++i) {\n",
        "        printf(\"i = %d) a: %f b: %f c: %f\\n\", i, a[i], b[i], c[i]);\n",
        "    }\n",
        "}"
      ],
      "metadata": {
        "id": "rwxYB_MkxRJm",
        "colab": {
          "base_uri": "https://localhost:8080/"
        },
        "outputId": "f1599147-b2c8-4f17-8005-fc4a028fec69"
      },
      "execution_count": null,
      "outputs": [
        {
          "output_type": "stream",
          "name": "stdout",
          "text": [
            "Total time: 0.034360 \n",
            "i = 0) a: 1.000000 b: 2.000000 c: 3.000000\n",
            "i = 1) a: 1.000000 b: 2.000000 c: 3.000000\n",
            "i = 2) a: 1.000000 b: 2.000000 c: 3.000000\n",
            "i = 3) a: 1.000000 b: 2.000000 c: 3.000000\n",
            "i = 4) a: 1.000000 b: 2.000000 c: 3.000000\n",
            "i = 9899994) a: 1.000000 b: 2.000000 c: 3.000000\n",
            "i = 9899995) a: 1.000000 b: 2.000000 c: 3.000000\n",
            "i = 9899996) a: 1.000000 b: 2.000000 c: 3.000000\n",
            "i = 9899997) a: 1.000000 b: 2.000000 c: 3.000000\n",
            "i = 9899998) a: 1.000000 b: 2.000000 c: 3.000000\n",
            "i = 9899999) a: 1.000000 b: 2.000000 c: 3.000000\n",
            "\n"
          ]
        }
      ]
    },
    {
      "cell_type": "markdown",
      "source": [
        "CUDA умножение матриц"
      ],
      "metadata": {
        "id": "iF-oI8SzxGAf"
      }
    },
    {
      "cell_type": "code",
      "source": [
        "%%cuda --name my_curand.cu\n",
        "#include <stdio.h>\n",
        "#include <stdlib.h>\n",
        "#include <string.h>\n",
        "#include <time.h>\n",
        "#include <cuda_runtime.h>\n",
        "#include <cublas_v2.h>\n",
        "#include <cstdlib>\n",
        "#include <malloc.h>\n",
        "#include <curand.h>\n",
        "\n",
        "// GPU_fill_rand() - Функция случайной генерации матрицы\n",
        "// Заполнить массив A(nr_rows_A, nr_cols_A) случайными числами на графическом процессоре\n",
        "void GPU_fill_rand(float* A, int nr_rows_A, int nr_cols_A) {\n",
        "    // Создание генератора псевдо-рандомных чисел\n",
        "    curandGenerator_t prng;\n",
        "    curandCreateGenerator(&prng, CURAND_RNG_PSEUDO_DEFAULT);\n",
        "\n",
        "    // Установка сида для генератора\n",
        "    curandSetPseudoRandomGeneratorSeed(prng, (unsigned long long) clock());\n",
        "\n",
        "    // Заполнение матрицы случайными числами\n",
        "    curandGenerateUniform(prng, A, nr_rows_A * nr_cols_A);\n",
        "}\n",
        "\n",
        "// gpu_blas_mmul() - Функция умножения матриц\n",
        "// Перемножение матриц А и В с сохранением результата в матрице С\n",
        "// C(m,n) = A(m,k) * B(k,n)\n",
        "void gpu_blas_mmul(const float* A, const float* B, float* C, const int m, const int k, const int n) {\n",
        "    int lda = m, ldb = k, ldc = m;\n",
        "    const float alf = 1;\n",
        "    const float bet = 0;\n",
        "    const float* alpha = &alf;\n",
        "    const float* beta = &bet;\n",
        "    // Create a handle for CUBLAS\n",
        "    cublasHandle_t handle;\n",
        "    cublasCreate(&handle);\n",
        "    // Do the actual multiplication\n",
        "    cublasSgemm(handle, CUBLAS_OP_N, CUBLAS_OP_N, m, n, k, alpha, A, lda, B, ldb, beta, C, ldc);\n",
        "    // Destroy the handle\n",
        "    cublasDestroy(handle);\n",
        "}\n",
        "\n",
        "//print_matrix() - Функция вывода матрицы\n",
        "void print_matrix(float* matrix, int rows, int cols) {\n",
        "\n",
        "    printf(\"%f\\t*\\t*\\t*\\t%f\\n\", matrix[0], matrix[rows * (rows - 1)]);\n",
        "    printf(\"*\\t*\\t*\\t*\\t*\\t*\\n\");\n",
        "    printf(\"%f\\t*\\t*\\t*\\t%f\\n\", matrix[rows], matrix[cols * rows - 1]);\n",
        "    printf(\"\\n\");\n",
        "\n",
        "}\n",
        "\n",
        "int main() {\n",
        "    // Выделяем 3 массива на хосте\n",
        "    int nr_rows_A, nr_cols_A, nr_rows_B, nr_cols_B, nr_rows_C, nr_cols_C;\n",
        "    cudaEvent_t start, end;\n",
        "    float time = 0.0f;\n",
        "    cudaEventCreate(&start);\n",
        "    cudaEventCreate(&end);\n",
        "\n",
        "    // Используются квадратные матрицы\n",
        "    nr_rows_A = nr_cols_A = nr_rows_B = nr_cols_B = nr_rows_C = nr_cols_C = 1260;\n",
        "    //140 420 1260\n",
        "\n",
        "    printf(\"float\\nn = %d\\n\\n\", nr_rows_A);\n",
        "\n",
        "    float* h_A = (float*)malloc(nr_rows_A * nr_cols_A * sizeof(float));\n",
        "    float* h_B = (float*)malloc(nr_rows_B * nr_cols_B * sizeof(float));\n",
        "    float* h_C = (float*)malloc(nr_rows_C * nr_cols_C * sizeof(float));\n",
        "\n",
        "    // Выделяем 3 массива на девайсе\n",
        "    float* d_A, * d_B, * d_C;\n",
        "    cudaMalloc(&d_A, nr_rows_A * nr_cols_A * sizeof(float));\n",
        "    cudaMalloc(&d_B, nr_rows_B * nr_cols_B * sizeof(float));\n",
        "    cudaMalloc(&d_C, nr_rows_C * nr_cols_C * sizeof(float));\n",
        "\n",
        "    // Заполняем матрицы А и В случайными числами\n",
        "    GPU_fill_rand(d_A, nr_rows_A, nr_cols_A);\n",
        "    GPU_fill_rand(d_B, nr_rows_B, nr_cols_B);\n",
        "\n",
        "    // Можно скопировать их на хост, чтобы вывести их\n",
        "    cudaMemcpy(h_A, d_A, nr_rows_A * nr_cols_A * sizeof(float), cudaMemcpyDeviceToHost);\n",
        "    cudaMemcpy(h_B, d_B, nr_rows_B * nr_cols_B * sizeof(float), cudaMemcpyDeviceToHost);\n",
        "    printf(\"A =\\n\");\n",
        "    print_matrix(h_A, nr_rows_A, nr_cols_A);\n",
        "    printf(\"B =\\n\");\n",
        "    print_matrix(h_B, nr_rows_B, nr_cols_B);\n",
        "\n",
        "\n",
        "    cudaEventRecord(start, 0);\n",
        "    // Умножаем матрицы А и В на GPU\n",
        "    gpu_blas_mmul(d_A, d_B, d_C, nr_rows_A, nr_cols_A, nr_cols_B);\n",
        "    cudaEventRecord(end, 0);\n",
        "    // Копируем на хост и выводим результат умножения матриц\n",
        "    cudaMemcpy(h_C, d_C, nr_rows_C * nr_cols_C * sizeof(float), cudaMemcpyDeviceToHost);\n",
        "    printf(\"C =\\n\");\n",
        "    print_matrix(h_C, nr_rows_C, nr_cols_C);\n",
        "\n",
        "    cudaEventElapsedTime(&time, start, end);\n",
        "    printf(\"Total time: %f\\n\", time / 1000);\n",
        "\n",
        "    // Освобождаем память на девайсе\n",
        "    cudaFree(d_A);\n",
        "    cudaFree(d_B);\n",
        "    cudaFree(d_C);\n",
        "\n",
        "    // Освобождаем память на хосте\n",
        "    free(h_A);\n",
        "    free(h_B);\n",
        "    free(h_C);\n",
        "    return 0;\n",
        "}\n"
      ],
      "metadata": {
        "id": "d8zUdWoPxFm6",
        "colab": {
          "base_uri": "https://localhost:8080/",
          "height": 36
        },
        "outputId": "76584ac8-bc8b-4eba-d1cb-be451a799748"
      },
      "execution_count": null,
      "outputs": [
        {
          "output_type": "execute_result",
          "data": {
            "text/plain": [
              "'File written in /content/src/my_curand.cu'"
            ],
            "application/vnd.google.colaboratory.intrinsic+json": {
              "type": "string"
            }
          },
          "metadata": {},
          "execution_count": 124
        }
      ]
    },
    {
      "cell_type": "code",
      "source": [
        "!nvcc -o /content/src/my_curand /content/src/my_curand.cu -lcurand -lcublas"
      ],
      "metadata": {
        "id": "e0jmgX5wpU-c"
      },
      "execution_count": null,
      "outputs": []
    },
    {
      "cell_type": "code",
      "source": [
        "!/content/src/my_curand"
      ],
      "metadata": {
        "id": "6abCBoPlsGxd",
        "colab": {
          "base_uri": "https://localhost:8080/"
        },
        "outputId": "28d6af02-2c1a-4c27-d2a6-158cd15f782c"
      },
      "execution_count": null,
      "outputs": [
        {
          "output_type": "stream",
          "name": "stdout",
          "text": [
            "float\n",
            "n = 1260\n",
            "\n",
            "A =\n",
            "0.220347\t*\t*\t*\t0.696221\n",
            "*\t*\t*\t*\t*\t*\n",
            "0.002065\t*\t*\t*\t0.792222\n",
            "\n",
            "B =\n",
            "0.237537\t*\t*\t*\t0.440715\n",
            "*\t*\t*\t*\t*\t*\n",
            "0.091920\t*\t*\t*\t0.902945\n",
            "\n",
            "C =\n",
            "314.827698\t*\t*\t*\t330.303467\n",
            "*\t*\t*\t*\t*\t*\n",
            "307.319611\t*\t*\t*\t325.829498\n",
            "\n",
            "Total time: 0.543147\n"
          ]
        }
      ]
    },
    {
      "cell_type": "markdown",
      "source": [
        "Генерация матрицы на GPU"
      ],
      "metadata": {
        "id": "84Wu85-YCB0J"
      }
    },
    {
      "cell_type": "code",
      "source": [
        "%%cuda --name rand_gpu.cu\n",
        "#include <stdio.h>\n",
        "#include <stdlib.h>\n",
        "#include <string.h>\n",
        "#include <time.h>\n",
        "#include <cuda_runtime.h>\n",
        "#include <cublas_v2.h>\n",
        "#include <cstdlib>\n",
        "#include <malloc.h>\n",
        "#include <curand.h>\n",
        "\n",
        "// GPU_fill_rand() - Функция случайной генерации матрицы\n",
        "// Заполнить массив A(nr_rows_A, nr_cols_A) случайными числами на графическом процессоре\n",
        "void GPU_fill_rand(float* A, int nr_rows_A, int nr_cols_A) {\n",
        "    // Создание генератора псевдо-рандомных чисел\n",
        "    curandGenerator_t prng;\n",
        "    curandCreateGenerator(&prng, CURAND_RNG_PSEUDO_DEFAULT);\n",
        "\n",
        "    // Установка сида для генератора\n",
        "    curandSetPseudoRandomGeneratorSeed(prng, (unsigned long long) clock());\n",
        "\n",
        "    // Заполнение матрицы случайными числами\n",
        "    curandGenerateUniform(prng, A, nr_rows_A * nr_cols_A);\n",
        "}\n",
        "//print_matrix() - Функция вывода матрицы\n",
        "void print_matrix(float* matrix, int rows, int cols) {\n",
        "\n",
        "    printf(\"%f\\t*\\t*\\t*\\t%f\\n\", matrix[0], matrix[rows * (rows - 1)]);\n",
        "    printf(\"*\\t*\\t*\\t*\\t*\\t*\\n\");\n",
        "    printf(\"%f\\t*\\t*\\t*\\t%f\\n\", matrix[rows], matrix[cols * rows - 1]);\n",
        "    printf(\"\\n\");\n",
        "\n",
        "}\n",
        "\n",
        "int main() {\n",
        "    // Выделяем 3 массива на хосте\n",
        "    int nr_rows_A, nr_cols_A, nr_rows_B, nr_cols_B, nr_rows_C, nr_cols_C;\n",
        "    cudaEvent_t start, end;\n",
        "    float time = 0.0f;\n",
        "    cudaEventCreate(&start);\n",
        "    cudaEventCreate(&end);\n",
        "\n",
        "    // Используются квадратные матрицы\n",
        "    nr_rows_A = nr_cols_A = nr_rows_B = nr_cols_B = nr_rows_C = nr_cols_C = 420;\n",
        "    //140 420 1260\n",
        "\n",
        "    printf(\"float\\nn = %d\\n\\n\", nr_rows_A);\n",
        "\n",
        "    float* h_A = (float*)malloc(nr_rows_A * nr_cols_A * sizeof(float));\n",
        "    float* h_B = (float*)malloc(nr_rows_B * nr_cols_B * sizeof(float));\n",
        "    float* h_C = (float*)malloc(nr_rows_C * nr_cols_C * sizeof(float));\n",
        "\n",
        "    // Выделяем 3 массива на девайсе\n",
        "    float* d_A, * d_B, * d_C;\n",
        "    cudaMalloc(&d_A, nr_rows_A * nr_cols_A * sizeof(float));\n",
        "    cudaMalloc(&d_B, nr_rows_B * nr_cols_B * sizeof(float));\n",
        "    cudaMalloc(&d_C, nr_rows_C * nr_cols_C * sizeof(float));\n",
        "\n",
        "\n",
        "    cudaEventRecord(start, 0);\n",
        "\n",
        "    // Заполняем матрицы А и В случайными числами\n",
        "    GPU_fill_rand(d_A, nr_rows_A, nr_cols_A);\n",
        "    GPU_fill_rand(d_B, nr_rows_B, nr_cols_B);\n",
        "\n",
        "    cudaEventRecord(end, 0);\n",
        "\n",
        "    // Можно скопировать их на хост, чтобы вывести их\n",
        "    cudaMemcpy(h_A, d_A, nr_rows_A * nr_cols_A * sizeof(float), cudaMemcpyDeviceToHost);\n",
        "    cudaMemcpy(h_B, d_B, nr_rows_B * nr_cols_B * sizeof(float), cudaMemcpyDeviceToHost);\n",
        "    printf(\"A =\\n\");\n",
        "    print_matrix(h_A, nr_rows_A, nr_cols_A);\n",
        "    printf(\"B =\\n\");\n",
        "    print_matrix(h_B, nr_rows_B, nr_cols_B);\n",
        "\n",
        "    cudaEventElapsedTime(&time, start, end);\n",
        "    printf(\"GPU generate\\nn = %d\\nTotal time: %f\\n\", nr_rows_A, time / 1000);\n",
        "\n",
        "    // Освобождаем память на девайсе\n",
        "    cudaFree(d_A);\n",
        "    cudaFree(d_B);\n",
        "\n",
        "    // Освобождаем память на хосте\n",
        "    free(h_A);\n",
        "    free(h_B);\n",
        "    return 0;\n",
        "}"
      ],
      "metadata": {
        "colab": {
          "base_uri": "https://localhost:8080/",
          "height": 36
        },
        "id": "Ish4bVs0CEyQ",
        "outputId": "a8aa2cbb-9868-49df-a73b-72673671afdd"
      },
      "execution_count": null,
      "outputs": [
        {
          "output_type": "execute_result",
          "data": {
            "text/plain": [
              "'File written in /content/src/rand_gpu.cu'"
            ],
            "application/vnd.google.colaboratory.intrinsic+json": {
              "type": "string"
            }
          },
          "metadata": {},
          "execution_count": 128
        }
      ]
    },
    {
      "cell_type": "code",
      "source": [
        "!nvcc -o /content/src/rand_gpu /content/src/rand_gpu.cu -lcurand -lcublas"
      ],
      "metadata": {
        "id": "Lhu6CzBbCZ1R"
      },
      "execution_count": null,
      "outputs": []
    },
    {
      "cell_type": "code",
      "source": [
        "!/content/src/rand_gpu"
      ],
      "metadata": {
        "colab": {
          "base_uri": "https://localhost:8080/"
        },
        "id": "cQrLrqZFChOP",
        "outputId": "72d62c7e-6f0f-45b6-e067-d4388d50a779"
      },
      "execution_count": null,
      "outputs": [
        {
          "output_type": "stream",
          "name": "stdout",
          "text": [
            "float\n",
            "n = 420\n",
            "\n",
            "A =\n",
            "0.697885\t*\t*\t*\t0.705352\n",
            "*\t*\t*\t*\t*\t*\n",
            "0.187291\t*\t*\t*\t0.693522\n",
            "\n",
            "B =\n",
            "0.988364\t*\t*\t*\t0.259889\n",
            "*\t*\t*\t*\t*\t*\n",
            "0.319250\t*\t*\t*\t0.551665\n",
            "\n",
            "GPU generate\n",
            "n = 420\n",
            "Total time: 0.008935\n"
          ]
        }
      ]
    },
    {
      "cell_type": "markdown",
      "source": [
        "Генерация на CPU"
      ],
      "metadata": {
        "id": "5Ers35_oK7TH"
      }
    },
    {
      "cell_type": "code",
      "source": [
        "%%cu\n",
        "\n",
        "#include <stdio.h>\n",
        "#include <ctime>\n",
        "\n",
        "void print_matrix(float* matrix, int rows, int cols) {\n",
        "    printf(\"%f\\t*\\t*\\t*\\t%f\\n\", matrix[0], matrix[rows * (rows - 1)]);\n",
        "    printf(\"*\\t*\\t*\\t*\\t*\\t*\\n\");\n",
        "    printf(\"%f\\t*\\t*\\t*\\t%f\\n\", matrix[rows], matrix[cols * rows - 1]);\n",
        "    printf(\"\\n\");\n",
        "}\n",
        "\n",
        "int main() {\n",
        "    // Выделяем 3 массива на хосте\n",
        "    int nr_rows_A, nr_cols_A, nr_rows_B, nr_cols_B;\n",
        "\n",
        "    // Используются квадратные матрицы\n",
        "    nr_rows_A = nr_cols_A = nr_rows_B = nr_cols_B = 140;\n",
        "    //140 420 1260\n",
        "\n",
        "    printf(\"float\\nn = %d\\n\\n\", nr_rows_A);\n",
        "\n",
        "    float* h_A = (float*)malloc(nr_rows_A * nr_cols_A * sizeof(float));\n",
        "    float* h_B = (float*)malloc(nr_rows_B * nr_cols_B * sizeof(float));\n",
        "\n",
        "    srand(time(NULL));\n",
        "    unsigned int start =  clock(); // начальное время\n",
        "    for (int i = 0; i < nr_rows_A * nr_cols_A; ++i)\n",
        "        h_A[i] = (double)(rand())/RAND_MAX;\n",
        "\n",
        "    for (int i = 0; i < nr_rows_B * nr_cols_B; ++i)\n",
        "        h_B[i] = (double)(rand())/RAND_MAX;\n",
        "\n",
        "    unsigned int end = clock(); // конечное время\n",
        "    unsigned int time = end - start; // искомое время\n",
        "    printf(\"A =\\n\");\n",
        "    print_matrix(h_A, nr_rows_A, nr_cols_A);\n",
        "    printf(\"B =\\n\");\n",
        "    print_matrix(h_B, nr_rows_B, nr_cols_B);\n",
        "    printf(\"СPU generate\\nTotal time: %f\\n\", (double)time / 1000000);\n",
        "    return 0;\n",
        "}"
      ],
      "metadata": {
        "colab": {
          "base_uri": "https://localhost:8080/"
        },
        "id": "jTKD6CDmK6zn",
        "outputId": "bef8480f-a588-40d7-b960-682f4b966003"
      },
      "execution_count": null,
      "outputs": [
        {
          "output_type": "stream",
          "name": "stdout",
          "text": [
            "float\n",
            "n = 140\n",
            "\n",
            "A =\n",
            "0.449748\t*\t*\t*\t0.139235\n",
            "*\t*\t*\t*\t*\t*\n",
            "0.424846\t*\t*\t*\t0.321787\n",
            "\n",
            "B =\n",
            "0.273017\t*\t*\t*\t0.250305\n",
            "*\t*\t*\t*\t*\t*\n",
            "0.238729\t*\t*\t*\t0.195733\n",
            "\n",
            "СPU generate\n",
            "Total time: 0.000387\n",
            "\n"
          ]
        }
      ]
    },
    {
      "cell_type": "markdown",
      "source": [
        "Умножение матриц на CPU"
      ],
      "metadata": {
        "id": "cYmiuDwWQhdq"
      }
    },
    {
      "cell_type": "code",
      "source": [
        "%%cu\n",
        "\n",
        "#include <stdio.h>\n",
        "#include <ctime>\n",
        "\n",
        "void print_matrix(float* matrix, int rows, int cols) {\n",
        "    printf(\"%f\\t*\\t*\\t*\\t%f\\n\", matrix[0], matrix[rows * (rows - 1)]);\n",
        "    printf(\"*\\t*\\t*\\t*\\t*\\t*\\n\");\n",
        "    printf(\"%f\\t*\\t*\\t*\\t%f\\n\", matrix[rows], matrix[cols * rows - 1]);\n",
        "    printf(\"\\n\");\n",
        "}\n",
        "\n",
        "void mult_cpu(float* A, float* B, float* C, int nA, int nB) {\n",
        "    for (int i = 0; i < nA; ++i) {\n",
        "        for (int j = 0; j < nB; ++j) {\n",
        "            for (int k = 0; k < nB; ++k)\n",
        "                C[i * nB + j] += A[i * nB + k] * B[k * nB + j];\n",
        "        }\n",
        "    }\n",
        "}\n",
        "\n",
        "int main() {\n",
        "    // Выделяем 3 массива на хосте\n",
        "    int nr_rows_A, nr_cols_A, nr_rows_B, nr_cols_B;\n",
        "\n",
        "    // Используются квадратные матрицы\n",
        "    nr_rows_A = nr_cols_A = nr_rows_B = nr_cols_B = 1260;\n",
        "    //140 420 1260\n",
        "\n",
        "    float* h_A = (float*)malloc(nr_rows_A * nr_cols_A * sizeof(float));\n",
        "    float* h_B = (float*)malloc(nr_rows_B * nr_cols_B * sizeof(float));\n",
        "    float* C = (float*)malloc(nr_rows_B * nr_cols_B * sizeof(float));\n",
        "\n",
        "    srand(time(NULL));\n",
        "    for (int i = 0; i < nr_rows_A * nr_cols_A; ++i)\n",
        "        h_A[i] = (double)(rand())/RAND_MAX;\n",
        "\n",
        "    for (int i = 0; i < nr_rows_B * nr_cols_B; ++i)\n",
        "        h_B[i] = (double)(rand())/RAND_MAX;\n",
        "\n",
        "    for (int i = 0; i < nr_rows_B * nr_cols_B; ++i)\n",
        "        C[i] = 0;\n",
        "\n",
        "    unsigned int start =  clock(); // начальное время\n",
        "\n",
        "    mult_cpu(h_A, h_B, C, nr_rows_A, nr_rows_B);\n",
        "\n",
        "    unsigned int end = clock(); // конечное время\n",
        "    unsigned int time = end - start; // искомое время\n",
        "    printf(\"A =\\n\");\n",
        "    print_matrix(h_A, nr_rows_A, nr_cols_A);\n",
        "    printf(\"B =\\n\");\n",
        "    print_matrix(h_B, nr_rows_B, nr_cols_B);\n",
        "    printf(\"C =\\n\");\n",
        "    print_matrix(C, nr_rows_B, nr_cols_B);\n",
        "    printf(\"СPU generate\\nTotal time: %f\\n\", (double)time / 1000000);\n",
        "    free(h_A);\n",
        "    free(h_B);\n",
        "    free(C);\n",
        "    return 0;\n",
        "}"
      ],
      "metadata": {
        "colab": {
          "base_uri": "https://localhost:8080/"
        },
        "id": "AK1Djhq6QhNh",
        "outputId": "f4b4a616-9b1a-4a17-8d6b-d324cff0125f"
      },
      "execution_count": null,
      "outputs": [
        {
          "output_type": "stream",
          "name": "stdout",
          "text": [
            "A =\n",
            "0.916938\t*\t*\t*\t0.173154\n",
            "*\t*\t*\t*\t*\t*\n",
            "0.246181\t*\t*\t*\t0.244513\n",
            "\n",
            "B =\n",
            "0.515437\t*\t*\t*\t0.871140\n",
            "*\t*\t*\t*\t*\t*\n",
            "0.962112\t*\t*\t*\t0.437043\n",
            "\n",
            "C =\n",
            "321.252716\t*\t*\t*\t317.184631\n",
            "*\t*\t*\t*\t*\t*\n",
            "317.543274\t*\t*\t*\t317.640015\n",
            "\n",
            "СPU generate\n",
            "Total time: 14.156591\n",
            "\n"
          ]
        }
      ]
    }
  ]
}